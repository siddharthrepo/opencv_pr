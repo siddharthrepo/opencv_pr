{
 "cells": [
  {
   "cell_type": "code",
   "execution_count": 9,
   "metadata": {},
   "outputs": [],
   "source": [
    "import cv2\n"
   ]
  },
  {
   "cell_type": "code",
   "execution_count": 10,
   "metadata": {},
   "outputs": [],
   "source": [
    "face = cv2.CascadeClassifier(\"C:\\\\Users\\\\siddh\\\\OneDrive\\\\Desktop\\\\resource folder\\\\opencv_tutorial\\\\opencv_tutorial\\\\pr1\\\\haarcascade_frontalface_default.xml\")\n",
    "# filename=\"C:\\\\Users\\\\siddh\\\\OneDrive\\\\Desktop\\\\resource folder\\\\opencv_tutorial\\\\opencv_tutorial\\\\pr1\\\\img3.jpg\"\n",
    "filename=\"C:\\\\Users\\\\siddh\\\\OneDrive\\\\Desktop\\\\resource folder\\\\opencv_tutorial\\\\opencv_tutorial\\\\pr1\\\\kieara_knightly10.png\"\n",
    "img = cv2.imread(filename)\n",
    "gray=cv2.cvtColor(img,cv2.COLOR_BGR2GRAY)\n",
    "fl=face.detectMultiScale(gray,1.09,7)\n",
    "ey=face.detectMultiScale(gray,1.09,7)\n",
    "hat=cv2.imread(\"C:\\\\Users\\\\siddh\\\\OneDrive\\\\Desktop\\\\resource folder\\\\opencv_tutorial\\\\opencv_project\\\\hat.jpg\")\n",
    "glass=cv2.imread(\"C:\\\\Users\\\\siddh\\\\OneDrive\\\\Desktop\\\\resource folder\\\\opencv_tutorial\\\\opencv_project\\\\glasses.png\")\n",
    "def put_hat(hat, fc, x, y, w, h):\n",
    "    face_width = w\n",
    "    face_height = h\n",
    "    hat_width = face_width + 1\n",
    "    hat_height = int(0.50 * face_height) + 1\n",
    "    hat = cv2.resize(hat, (hat_width, hat_height))\n",
    "\n",
    "    for i in range(hat_height):\n",
    "        for j in range(hat_width):\n",
    "            for k in range(3):\n",
    "                if hat[i][j][k] < 235:\n",
    "                    fc[y + i - int(0.40 * face_height)][x + j][k] = hat[i][j][k]\n",
    "    return fc\n",
    "\n",
    "\n",
    "def put_glass(glass, fc, x, y, w, h):\n",
    "    face_width = w\n",
    "    face_height = h\n",
    "\n",
    "    hat_width = face_width + 1\n",
    "    hat_height = int(0.50 * face_height) + 1\n",
    "\n",
    "    glass = cv2.resize(glass, (hat_width, hat_height))\n",
    "\n",
    "    for i in range(hat_height):\n",
    "        for j in range(hat_width):\n",
    "            for k in range(3):\n",
    "                if glass[i][j][k] < 235:\n",
    "                    fc[y + i - int(-0.20 * face_height)][x + j][k] = glass[i][j][k]\n",
    "    return fc"
   ]
  },
  {
   "cell_type": "code",
   "execution_count": 11,
   "metadata": {},
   "outputs": [],
   "source": [
    "for (x, y, w, h) in fl:\n",
    "    frame = put_hat(hat, img, x, y, w, h)\n",
    "for (x, y, w, h) in ey:\n",
    "    frame=put_glass(glass,img, x, y, w, h)\n",
    "    # img = cv2.rectangle(img, (x, y), (x + w, y + h), (255, 0, 0), 2)\n",
    "# cv2.imshow('image',frame)\n",
    "cv2.waitKey(0)& 0xff\n",
    "cv2.destroyAllWindows()"
   ]
  },
  {
   "cell_type": "code",
   "execution_count": 12,
   "metadata": {},
   "outputs": [],
   "source": [
    "path_to_data = \"./img_dir/\"\n",
    "path_to_cr_data = \"./img_dir/new/\""
   ]
  },
  {
   "cell_type": "code",
   "execution_count": 13,
   "metadata": {},
   "outputs": [],
   "source": [
    "import os\n",
    "img_dirs = []\n",
    "for entry in os.scandir(path_to_data):\n",
    "    if entry.is_dir():\n",
    "        img_dirs.append(entry.path)"
   ]
  },
  {
   "cell_type": "code",
   "execution_count": 14,
   "metadata": {},
   "outputs": [
    {
     "data": {
      "text/plain": [
       "['./img_dir/images']"
      ]
     },
     "execution_count": 14,
     "metadata": {},
     "output_type": "execute_result"
    }
   ],
   "source": [
    "img_dirs"
   ]
  },
  {
   "cell_type": "code",
   "execution_count": 15,
   "metadata": {},
   "outputs": [],
   "source": [
    "import shutil\n",
    "if os.path.exists(path_to_cr_data):\n",
    "    shutil.rmtree(path_to_cr_data)\n",
    "os.mkdir(path_to_cr_data)"
   ]
  },
  {
   "cell_type": "code",
   "execution_count": 16,
   "metadata": {},
   "outputs": [
    {
     "name": "stdout",
     "output_type": "stream",
     "text": [
      "images\n"
     ]
    },
    {
     "ename": "TypeError",
     "evalue": "put_glass() takes 6 positional arguments but 7 were given",
     "output_type": "error",
     "traceback": [
      "\u001b[1;31m---------------------------------------------------------------------------\u001b[0m",
      "\u001b[1;31mTypeError\u001b[0m                                 Traceback (most recent call last)",
      "\u001b[1;32mc:\\Users\\siddh\\OneDrive\\Desktop\\resource folder\\opencv_tutorial\\opencv_tutorial\\pr1\\main_file.ipynb Cell 8\u001b[0m line \u001b[0;36m1\n\u001b[0;32m      <a href='vscode-notebook-cell:/c%3A/Users/siddh/OneDrive/Desktop/resource%20folder/opencv_tutorial/opencv_tutorial/pr1/main_file.ipynb#X10sZmlsZQ%3D%3D?line=7'>8</a>\u001b[0m celebrity_file_names_dict[celebrity_name] \u001b[39m=\u001b[39m []\n\u001b[0;32m     <a href='vscode-notebook-cell:/c%3A/Users/siddh/OneDrive/Desktop/resource%20folder/opencv_tutorial/opencv_tutorial/pr1/main_file.ipynb#X10sZmlsZQ%3D%3D?line=9'>10</a>\u001b[0m \u001b[39mfor\u001b[39;00m entry \u001b[39min\u001b[39;00m os\u001b[39m.\u001b[39mscandir(img_dir):\n\u001b[1;32m---> <a href='vscode-notebook-cell:/c%3A/Users/siddh/OneDrive/Desktop/resource%20folder/opencv_tutorial/opencv_tutorial/pr1/main_file.ipynb#X10sZmlsZQ%3D%3D?line=10'>11</a>\u001b[0m     roi_color  \u001b[39m=\u001b[39m put_glass(entry\u001b[39m.\u001b[39;49mpath,hat, img, x, y, w, h)\n\u001b[0;32m     <a href='vscode-notebook-cell:/c%3A/Users/siddh/OneDrive/Desktop/resource%20folder/opencv_tutorial/opencv_tutorial/pr1/main_file.ipynb#X10sZmlsZQ%3D%3D?line=11'>12</a>\u001b[0m     \u001b[39mfor\u001b[39;00m (x, y, w, h) \u001b[39min\u001b[39;00m fl:\n\u001b[0;32m     <a href='vscode-notebook-cell:/c%3A/Users/siddh/OneDrive/Desktop/resource%20folder/opencv_tutorial/opencv_tutorial/pr1/main_file.ipynb#X10sZmlsZQ%3D%3D?line=12'>13</a>\u001b[0m         roi_color \u001b[39m=\u001b[39m put_hat(hat, img, x, y, w, h)\n",
      "\u001b[1;31mTypeError\u001b[0m: put_glass() takes 6 positional arguments but 7 were given"
     ]
    }
   ],
   "source": [
    "cropped_image_dirs = []\n",
    "celebrity_file_names_dict = {}\n",
    "\n",
    "for img_dir in img_dirs:\n",
    "    count = 1\n",
    "    celebrity_name = img_dir.split('/')[-1]\n",
    "    print(celebrity_name)\n",
    "    celebrity_file_names_dict[celebrity_name] = []\n",
    "\n",
    "    for entry in os.scandir(img_dir):\n",
    "        roi_color  = put_glass(entry.path,hat, img, x, y, w, h)\n",
    "        for (x, y, w, h) in fl:\n",
    "            roi_color = put_hat(hat, img, x, y, w, h)\n",
    "        if roi_color is not None:\n",
    "            cropped_folder = path_to_cr_data + celebrity_name\n",
    "            if not os.path.exists(cropped_folder):\n",
    "                cropped_image_dirs.append(cropped_folder)\n",
    "                os.makedirs(cropped_folder)\n",
    "                print(\"generating cropped images in folder: \" , cropped_folder)\n",
    "            cropped_file_name = celebrity_name + str(count) + '.png'\n",
    "            cropped_file_path = cropped_folder + '/' + cropped_file_name\n",
    "\n",
    "            cv2.imwrite(cropped_file_path , roi_color)\n",
    "            celebrity_file_names_dict[celebrity_name].append(cropped_file_path)\n",
    "            count +=1\n"
   ]
  },
  {
   "cell_type": "code",
   "execution_count": null,
   "metadata": {},
   "outputs": [],
   "source": []
  }
 ],
 "metadata": {
  "kernelspec": {
   "display_name": "Python 3",
   "language": "python",
   "name": "python3"
  },
  "language_info": {
   "codemirror_mode": {
    "name": "ipython",
    "version": 3
   },
   "file_extension": ".py",
   "mimetype": "text/x-python",
   "name": "python",
   "nbconvert_exporter": "python",
   "pygments_lexer": "ipython3",
   "version": "3.11.5"
  },
  "orig_nbformat": 4
 },
 "nbformat": 4,
 "nbformat_minor": 2
}
